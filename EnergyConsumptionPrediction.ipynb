{
  "nbformat": 4,
  "nbformat_minor": 0,
  "metadata": {
    "colab": {
      "name": "EnergyConsumptionPrediction.ipynb",
      "provenance": [],
      "authorship_tag": "ABX9TyMe44zo0ZwB4TQdQlSwK7Hw",
      "include_colab_link": true
    },
    "kernelspec": {
      "name": "python3",
      "display_name": "Python 3"
    },
    "language_info": {
      "name": "python"
    }
  },
  "cells": [
    {
      "cell_type": "markdown",
      "metadata": {
        "id": "view-in-github",
        "colab_type": "text"
      },
      "source": [
        "<a href=\"https://colab.research.google.com/github/dhanushka365/SLEnergyConsumptionPrediction/blob/main/EnergyConsumptionPrediction.ipynb\" target=\"_parent\"><img src=\"https://colab.research.google.com/assets/colab-badge.svg\" alt=\"Open In Colab\"/></a>"
      ]
    },
    {
      "cell_type": "code",
      "execution_count": 6,
      "metadata": {
        "id": "z5PpgJ1JR5vI"
      },
      "outputs": [],
      "source": [
        "import pandas as pd\n",
        "import numpy as np\n",
        "import matplotlib.pyplot as plt\n",
        "import seaborn as sns\n",
        "import pprint\n",
        "import  psycopg2\n",
        "%matplotlib inline"
      ]
    },
    {
      "cell_type": "code",
      "source": [
        "from google.colab import drive\n",
        "drive.mount('/content/drive')"
      ],
      "metadata": {
        "colab": {
          "base_uri": "https://localhost:8080/"
        },
        "id": "NF2h6fO1SAiX",
        "outputId": "5c4802d1-20b7-408b-c290-5669a6b73a75"
      },
      "execution_count": 2,
      "outputs": [
        {
          "output_type": "stream",
          "name": "stdout",
          "text": [
            "Mounted at /content/drive\n"
          ]
        }
      ]
    },
    {
      "cell_type": "code",
      "source": [
        "df = pd.read_csv(\"/content/drive/MyDrive/hourly_csv/AEP_hourly.csv\")\n",
        "print(\"=\"*50)\n",
        "print(\"First Five Rows \",\"\\n\")\n",
        "print(df.head(7),\"\\n\")\n",
        "\n",
        "print(\"=\"*50)\n",
        "print(\"Information About Dataset\",\"\\n\")\n",
        "print(df.info(),\"\\n\")\n",
        "\n",
        "print(\"=\"*50)\n",
        "print(\"Describe the Dataset \",\"\\n\")\n",
        "print(df.describe(),\"\\n\")\n",
        "\n",
        "print(\"=\"*50)\n",
        "print(\"Null Values t \",\"\\n\")\n",
        "print(df.isnull().sum(),\"\\n\")"
      ],
      "metadata": {
        "colab": {
          "base_uri": "https://localhost:8080/"
        },
        "id": "MmJIYT_xSF_m",
        "outputId": "b3f2f791-48ef-499a-daaf-1b107f83bc32"
      },
      "execution_count": 4,
      "outputs": [
        {
          "output_type": "stream",
          "name": "stdout",
          "text": [
            "==================================================\n",
            "First Five Rows  \n",
            "\n",
            "              Datetime   AEP_MW\n",
            "0  2004-12-31 01:00:00  13478.0\n",
            "1  2004-12-31 02:00:00  12865.0\n",
            "2  2004-12-31 03:00:00  12577.0\n",
            "3  2004-12-31 04:00:00  12517.0\n",
            "4  2004-12-31 05:00:00  12670.0\n",
            "5  2004-12-31 06:00:00  13038.0\n",
            "6  2004-12-31 07:00:00  13692.0 \n",
            "\n",
            "==================================================\n",
            "Information About Dataset \n",
            "\n",
            "<class 'pandas.core.frame.DataFrame'>\n",
            "RangeIndex: 121273 entries, 0 to 121272\n",
            "Data columns (total 2 columns):\n",
            " #   Column    Non-Null Count   Dtype  \n",
            "---  ------    --------------   -----  \n",
            " 0   Datetime  121273 non-null  object \n",
            " 1   AEP_MW    121273 non-null  float64\n",
            "dtypes: float64(1), object(1)\n",
            "memory usage: 1.9+ MB\n",
            "None \n",
            "\n",
            "==================================================\n",
            "Describe the Dataset  \n",
            "\n",
            "              AEP_MW\n",
            "count  121273.000000\n",
            "mean    15499.513717\n",
            "std      2591.399065\n",
            "min      9581.000000\n",
            "25%     13630.000000\n",
            "50%     15310.000000\n",
            "75%     17200.000000\n",
            "max     25695.000000 \n",
            "\n",
            "==================================================\n",
            "Null Values t  \n",
            "\n",
            "Datetime    0\n",
            "AEP_MW      0\n",
            "dtype: int64 \n",
            "\n"
          ]
        }
      ]
    },
    {
      "cell_type": "code",
      "source": [
        "\n",
        "#establishing the connection\n",
        "conn = psycopg2.connect(\n",
        "   database=\"triton\", user='postgres', password='Aa2260205+', host='database-2.cu4snx0lb5ac.us-east-1.rds.amazonaws.com', port= '5432'\n",
        ")\n",
        "#Creating a cursor object using the cursor() method\n",
        "cursor = conn.cursor()\n",
        "\n",
        "#Executing an MYSQL function using the execute() method\n",
        "cursor.execute(\"select version()\")\n",
        "\n",
        "# Fetch a single row using fetchone() method.\n",
        "data = cursor.fetchone()\n",
        "print(\"Connection established to: \",data)\n",
        "\n",
        "#Closing the connection\n",
        "conn.close()\n"
      ],
      "metadata": {
        "id": "87mQUXp9H4b7",
        "outputId": "2e8d8eac-144c-4280-b172-b09146c3cb57",
        "colab": {
          "base_uri": "https://localhost:8080/"
        }
      },
      "execution_count": 12,
      "outputs": [
        {
          "output_type": "stream",
          "name": "stdout",
          "text": [
            "Connection established to:  ('PostgreSQL 13.4 on x86_64-pc-linux-gnu, compiled by gcc (GCC) 7.3.1 20180712 (Red Hat 7.3.1-12), 64-bit',)\n"
          ]
        }
      ]
    },
    {
      "cell_type": "code",
      "source": [
        "# Extract all Data Like Year MOnth Day Time etc\n",
        "dataset = df\n",
        "dataset[\"Month\"] = pd.to_datetime(df[\"Datetime\"]).dt.month\n",
        "dataset[\"Year\"] = pd.to_datetime(df[\"Datetime\"]).dt.year\n",
        "dataset[\"Date\"] = pd.to_datetime(df[\"Datetime\"]).dt.date\n",
        "dataset[\"Time\"] = pd.to_datetime(df[\"Datetime\"]).dt.time\n",
        "dataset[\"Week\"] = pd.to_datetime(df[\"Datetime\"]).dt.week\n",
        "dataset[\"Day\"] = pd.to_datetime(df[\"Datetime\"]).dt.day_name()\n",
        "dataset = df.set_index(\"Datetime\")\n",
        "dataset.index = pd.to_datetime(dataset.index)\n",
        "dataset.head(1)\n"
      ],
      "metadata": {
        "colab": {
          "base_uri": "https://localhost:8080/",
          "height": 167
        },
        "id": "lnclbMdySSfH",
        "outputId": "2b85bad5-a792-4a1d-f8e6-393716d1eaf5"
      },
      "execution_count": 13,
      "outputs": [
        {
          "output_type": "stream",
          "name": "stderr",
          "text": [
            "/usr/local/lib/python3.7/dist-packages/ipykernel_launcher.py:7: FutureWarning: Series.dt.weekofyear and Series.dt.week have been deprecated.  Please use Series.dt.isocalendar().week instead.\n",
            "  import sys\n"
          ]
        },
        {
          "output_type": "execute_result",
          "data": {
            "text/plain": [
              "                      AEP_MW  Month  Year        Date      Time  Week     Day\n",
              "Datetime                                                                     \n",
              "2004-12-31 01:00:00  13478.0     12  2004  2004-12-31  01:00:00    53  Friday"
            ],
            "text/html": [
              "\n",
              "  <div id=\"df-ee8001b5-273f-4b03-8095-7b4b6ae568db\">\n",
              "    <div class=\"colab-df-container\">\n",
              "      <div>\n",
              "<style scoped>\n",
              "    .dataframe tbody tr th:only-of-type {\n",
              "        vertical-align: middle;\n",
              "    }\n",
              "\n",
              "    .dataframe tbody tr th {\n",
              "        vertical-align: top;\n",
              "    }\n",
              "\n",
              "    .dataframe thead th {\n",
              "        text-align: right;\n",
              "    }\n",
              "</style>\n",
              "<table border=\"1\" class=\"dataframe\">\n",
              "  <thead>\n",
              "    <tr style=\"text-align: right;\">\n",
              "      <th></th>\n",
              "      <th>AEP_MW</th>\n",
              "      <th>Month</th>\n",
              "      <th>Year</th>\n",
              "      <th>Date</th>\n",
              "      <th>Time</th>\n",
              "      <th>Week</th>\n",
              "      <th>Day</th>\n",
              "    </tr>\n",
              "    <tr>\n",
              "      <th>Datetime</th>\n",
              "      <th></th>\n",
              "      <th></th>\n",
              "      <th></th>\n",
              "      <th></th>\n",
              "      <th></th>\n",
              "      <th></th>\n",
              "      <th></th>\n",
              "    </tr>\n",
              "  </thead>\n",
              "  <tbody>\n",
              "    <tr>\n",
              "      <th>2004-12-31 01:00:00</th>\n",
              "      <td>13478.0</td>\n",
              "      <td>12</td>\n",
              "      <td>2004</td>\n",
              "      <td>2004-12-31</td>\n",
              "      <td>01:00:00</td>\n",
              "      <td>53</td>\n",
              "      <td>Friday</td>\n",
              "    </tr>\n",
              "  </tbody>\n",
              "</table>\n",
              "</div>\n",
              "      <button class=\"colab-df-convert\" onclick=\"convertToInteractive('df-ee8001b5-273f-4b03-8095-7b4b6ae568db')\"\n",
              "              title=\"Convert this dataframe to an interactive table.\"\n",
              "              style=\"display:none;\">\n",
              "        \n",
              "  <svg xmlns=\"http://www.w3.org/2000/svg\" height=\"24px\"viewBox=\"0 0 24 24\"\n",
              "       width=\"24px\">\n",
              "    <path d=\"M0 0h24v24H0V0z\" fill=\"none\"/>\n",
              "    <path d=\"M18.56 5.44l.94 2.06.94-2.06 2.06-.94-2.06-.94-.94-2.06-.94 2.06-2.06.94zm-11 1L8.5 8.5l.94-2.06 2.06-.94-2.06-.94L8.5 2.5l-.94 2.06-2.06.94zm10 10l.94 2.06.94-2.06 2.06-.94-2.06-.94-.94-2.06-.94 2.06-2.06.94z\"/><path d=\"M17.41 7.96l-1.37-1.37c-.4-.4-.92-.59-1.43-.59-.52 0-1.04.2-1.43.59L10.3 9.45l-7.72 7.72c-.78.78-.78 2.05 0 2.83L4 21.41c.39.39.9.59 1.41.59.51 0 1.02-.2 1.41-.59l7.78-7.78 2.81-2.81c.8-.78.8-2.07 0-2.86zM5.41 20L4 18.59l7.72-7.72 1.47 1.35L5.41 20z\"/>\n",
              "  </svg>\n",
              "      </button>\n",
              "      \n",
              "  <style>\n",
              "    .colab-df-container {\n",
              "      display:flex;\n",
              "      flex-wrap:wrap;\n",
              "      gap: 12px;\n",
              "    }\n",
              "\n",
              "    .colab-df-convert {\n",
              "      background-color: #E8F0FE;\n",
              "      border: none;\n",
              "      border-radius: 50%;\n",
              "      cursor: pointer;\n",
              "      display: none;\n",
              "      fill: #1967D2;\n",
              "      height: 32px;\n",
              "      padding: 0 0 0 0;\n",
              "      width: 32px;\n",
              "    }\n",
              "\n",
              "    .colab-df-convert:hover {\n",
              "      background-color: #E2EBFA;\n",
              "      box-shadow: 0px 1px 2px rgba(60, 64, 67, 0.3), 0px 1px 3px 1px rgba(60, 64, 67, 0.15);\n",
              "      fill: #174EA6;\n",
              "    }\n",
              "\n",
              "    [theme=dark] .colab-df-convert {\n",
              "      background-color: #3B4455;\n",
              "      fill: #D2E3FC;\n",
              "    }\n",
              "\n",
              "    [theme=dark] .colab-df-convert:hover {\n",
              "      background-color: #434B5C;\n",
              "      box-shadow: 0px 1px 3px 1px rgba(0, 0, 0, 0.15);\n",
              "      filter: drop-shadow(0px 1px 2px rgba(0, 0, 0, 0.3));\n",
              "      fill: #FFFFFF;\n",
              "    }\n",
              "  </style>\n",
              "\n",
              "      <script>\n",
              "        const buttonEl =\n",
              "          document.querySelector('#df-ee8001b5-273f-4b03-8095-7b4b6ae568db button.colab-df-convert');\n",
              "        buttonEl.style.display =\n",
              "          google.colab.kernel.accessAllowed ? 'block' : 'none';\n",
              "\n",
              "        async function convertToInteractive(key) {\n",
              "          const element = document.querySelector('#df-ee8001b5-273f-4b03-8095-7b4b6ae568db');\n",
              "          const dataTable =\n",
              "            await google.colab.kernel.invokeFunction('convertToInteractive',\n",
              "                                                     [key], {});\n",
              "          if (!dataTable) return;\n",
              "\n",
              "          const docLinkHtml = 'Like what you see? Visit the ' +\n",
              "            '<a target=\"_blank\" href=https://colab.research.google.com/notebooks/data_table.ipynb>data table notebook</a>'\n",
              "            + ' to learn more about interactive tables.';\n",
              "          element.innerHTML = '';\n",
              "          dataTable['output_type'] = 'display_data';\n",
              "          await google.colab.output.renderOutput(dataTable, element);\n",
              "          const docLink = document.createElement('div');\n",
              "          docLink.innerHTML = docLinkHtml;\n",
              "          element.appendChild(docLink);\n",
              "        }\n",
              "      </script>\n",
              "    </div>\n",
              "  </div>\n",
              "  "
            ]
          },
          "metadata": {},
          "execution_count": 13
        }
      ]
    },
    {
      "cell_type": "markdown",
      "source": [
        ""
      ],
      "metadata": {
        "id": "WKk8YjmhWh4U"
      }
    },
    {
      "cell_type": "code",
      "source": [
        "# How many Unique Year do we Have in Dataset \n",
        "print(df.Year.unique(),\"\\n\")\n",
        "print(\"Total Number of Unique Year\", df.Year.nunique(), \"\\n\")"
      ],
      "metadata": {
        "colab": {
          "base_uri": "https://localhost:8080/"
        },
        "id": "4BtyBtxJSWqW",
        "outputId": "9bf1a975-8786-4a6f-cacb-16d7a4297647"
      },
      "execution_count": 14,
      "outputs": [
        {
          "output_type": "stream",
          "name": "stdout",
          "text": [
            "[2004 2005 2006 2007 2008 2009 2010 2011 2012 2013 2014 2015 2016 2017\n",
            " 2018] \n",
            "\n",
            "Total Number of Unique Year 15 \n",
            "\n"
          ]
        }
      ]
    },
    {
      "cell_type": "code",
      "source": [
        "#plot and data visualization\n",
        "sns.distplot(df[\"AEP_MW\"])\n",
        "plt.title(\"Ennergy Distribution\")"
      ],
      "metadata": {
        "colab": {
          "base_uri": "https://localhost:8080/",
          "height": 368
        },
        "id": "Bb_zgruRUFhe",
        "outputId": "ea20e948-45ee-4269-f286-bf14075fdc55"
      },
      "execution_count": 15,
      "outputs": [
        {
          "output_type": "stream",
          "name": "stderr",
          "text": [
            "/usr/local/lib/python3.7/dist-packages/seaborn/distributions.py:2619: FutureWarning: `distplot` is a deprecated function and will be removed in a future version. Please adapt your code to use either `displot` (a figure-level function with similar flexibility) or `histplot` (an axes-level function for histograms).\n",
            "  warnings.warn(msg, FutureWarning)\n"
          ]
        },
        {
          "output_type": "execute_result",
          "data": {
            "text/plain": [
              "Text(0.5, 1.0, 'Ennergy Distribution')"
            ]
          },
          "metadata": {},
          "execution_count": 15
        },
        {
          "output_type": "display_data",
          "data": {
            "text/plain": [
              "<Figure size 432x288 with 1 Axes>"
            ],
            "image/png": "[encoded data removed]"
          },
          "metadata": {
            "needs_background": "light"
          }
        }
      ]
    },
    {
      "cell_type": "code",
      "source": [
        "#shows the Relationship of Energy vs Year\n",
        "sns.lineplot(x=df[\"Year\"],y=df[\"AEP_MW\"], data=df)"
      ],
      "metadata": {
        "colab": {
          "base_uri": "https://localhost:8080/",
          "height": 299
        },
        "id": "3f10Qw-SUrFu",
        "outputId": "1c85d45a-95cf-4330-da74-e8804f883347"
      },
      "execution_count": null,
      "outputs": [
        {
          "output_type": "execute_result",
          "data": {
            "text/plain": [
              "<matplotlib.axes._subplots.AxesSubplot at 0x7f9cb8b7fe10>"
            ]
          },
          "metadata": {},
          "execution_count": 11
        },
        {
          "output_type": "display_data",
          "data": {
            "text/plain": [
              "<Figure size 432x288 with 1 Axes>"
            ],
            "image/png": "[encoded data removed]"
          },
          "metadata": {}
        }
      ]
    },
    {
      "cell_type": "code",
      "source": [
        "df.head()\n",
        "df.isnull().sum()"
      ],
      "metadata": {
        "colab": {
          "base_uri": "https://localhost:8080/"
        },
        "id": "oq8AGNKkYiFK",
        "outputId": "e6e53f1d-b71e-4077-cab3-8018c6be82e3"
      },
      "execution_count": null,
      "outputs": [
        {
          "output_type": "execute_result",
          "data": {
            "text/plain": [
              "Datetime    0\n",
              "AEP_MW      0\n",
              "Month       0\n",
              "Year        0\n",
              "Date        0\n",
              "Time        0\n",
              "Week        0\n",
              "Day         0\n",
              "dtype: int64"
            ]
          },
          "metadata": {},
          "execution_count": 27
        }
      ]
    },
    {
      "cell_type": "code",
      "source": [
        "df2 = df.dropna()\n",
        "df2.head()"
      ],
      "metadata": {
        "colab": {
          "base_uri": "https://localhost:8080/",
          "height": 206
        },
        "id": "XtMt70klYrFU",
        "outputId": "7622b864-8a04-4521-8b2d-7c7a6541bc13"
      },
      "execution_count": null,
      "outputs": [
        {
          "output_type": "execute_result",
          "data": {
            "text/plain": [
              "              Datetime   AEP_MW  Month  Year        Date      Time  Week  \\\n",
              "0  2004-12-31 01:00:00  13478.0     12  2004  2004-12-31  01:00:00    53   \n",
              "1  2004-12-31 02:00:00  12865.0     12  2004  2004-12-31  02:00:00    53   \n",
              "2  2004-12-31 03:00:00  12577.0     12  2004  2004-12-31  03:00:00    53   \n",
              "3  2004-12-31 04:00:00  12517.0     12  2004  2004-12-31  04:00:00    53   \n",
              "4  2004-12-31 05:00:00  12670.0     12  2004  2004-12-31  05:00:00    53   \n",
              "\n",
              "      Day  \n",
              "0  Friday  \n",
              "1  Friday  \n",
              "2  Friday  \n",
              "3  Friday  \n",
              "4  Friday  "
            ],
            "text/html": [
              "\n",
              "  <div id=\"df-0f5904cf-03c4-4d2e-828c-8301f43df8e6\">\n",
              "    <div class=\"colab-df-container\">\n",
              "      <div>\n",
              "<style scoped>\n",
              "    .dataframe tbody tr th:only-of-type {\n",
              "        vertical-align: middle;\n",
              "    }\n",
              "\n",
              "    .dataframe tbody tr th {\n",
              "        vertical-align: top;\n",
              "    }\n",
              "\n",
              "    .dataframe thead th {\n",
              "        text-align: right;\n",
              "    }\n",
              "</style>\n",
              "<table border=\"1\" class=\"dataframe\">\n",
              "  <thead>\n",
              "    <tr style=\"text-align: right;\">\n",
              "      <th></th>\n",
              "      <th>Datetime</th>\n",
              "      <th>AEP_MW</th>\n",
              "      <th>Month</th>\n",
              "      <th>Year</th>\n",
              "      <th>Date</th>\n",
              "      <th>Time</th>\n",
              "      <th>Week</th>\n",
              "      <th>Day</th>\n",
              "    </tr>\n",
              "  </thead>\n",
              "  <tbody>\n",
              "    <tr>\n",
              "      <th>0</th>\n",
              "      <td>2004-12-31 01:00:00</td>\n",
              "      <td>13478.0</td>\n",
              "      <td>12</td>\n",
              "      <td>2004</td>\n",
              "      <td>2004-12-31</td>\n",
              "      <td>01:00:00</td>\n",
              "      <td>53</td>\n",
              "      <td>Friday</td>\n",
              "    </tr>\n",
              "    <tr>\n",
              "      <th>1</th>\n",
              "      <td>2004-12-31 02:00:00</td>\n",
              "      <td>12865.0</td>\n",
              "      <td>12</td>\n",
              "      <td>2004</td>\n",
              "      <td>2004-12-31</td>\n",
              "      <td>02:00:00</td>\n",
              "      <td>53</td>\n",
              "      <td>Friday</td>\n",
              "    </tr>\n",
              "    <tr>\n",
              "      <th>2</th>\n",
              "      <td>2004-12-31 03:00:00</td>\n",
              "      <td>12577.0</td>\n",
              "      <td>12</td>\n",
              "      <td>2004</td>\n",
              "      <td>2004-12-31</td>\n",
              "      <td>03:00:00</td>\n",
              "      <td>53</td>\n",
              "      <td>Friday</td>\n",
              "    </tr>\n",
              "    <tr>\n",
              "      <th>3</th>\n",
              "      <td>2004-12-31 04:00:00</td>\n",
              "      <td>12517.0</td>\n",
              "      <td>12</td>\n",
              "      <td>2004</td>\n",
              "      <td>2004-12-31</td>\n",
              "      <td>04:00:00</td>\n",
              "      <td>53</td>\n",
              "      <td>Friday</td>\n",
              "    </tr>\n",
              "    <tr>\n",
              "      <th>4</th>\n",
              "      <td>2004-12-31 05:00:00</td>\n",
              "      <td>12670.0</td>\n",
              "      <td>12</td>\n",
              "      <td>2004</td>\n",
              "      <td>2004-12-31</td>\n",
              "      <td>05:00:00</td>\n",
              "      <td>53</td>\n",
              "      <td>Friday</td>\n",
              "    </tr>\n",
              "  </tbody>\n",
              "</table>\n",
              "</div>\n",
              "      <button class=\"colab-df-convert\" onclick=\"convertToInteractive('df-0f5904cf-03c4-4d2e-828c-8301f43df8e6')\"\n",
              "              title=\"Convert this dataframe to an interactive table.\"\n",
              "              style=\"display:none;\">\n",
              "        \n",
              "  <svg xmlns=\"http://www.w3.org/2000/svg\" height=\"24px\"viewBox=\"0 0 24 24\"\n",
              "       width=\"24px\">\n",
              "    <path d=\"M0 0h24v24H0V0z\" fill=\"none\"/>\n",
              "    <path d=\"M18.56 5.44l.94 2.06.94-2.06 2.06-.94-2.06-.94-.94-2.06-.94 2.06-2.06.94zm-11 1L8.5 8.5l.94-2.06 2.06-.94-2.06-.94L8.5 2.5l-.94 2.06-2.06.94zm10 10l.94 2.06.94-2.06 2.06-.94-2.06-.94-.94-2.06-.94 2.06-2.06.94z\"/><path d=\"M17.41 7.96l-1.37-1.37c-.4-.4-.92-.59-1.43-.59-.52 0-1.04.2-1.43.59L10.3 9.45l-7.72 7.72c-.78.78-.78 2.05 0 2.83L4 21.41c.39.39.9.59 1.41.59.51 0 1.02-.2 1.41-.59l7.78-7.78 2.81-2.81c.8-.78.8-2.07 0-2.86zM5.41 20L4 18.59l7.72-7.72 1.47 1.35L5.41 20z\"/>\n",
              "  </svg>\n",
              "      </button>\n",
              "      \n",
              "  <style>\n",
              "    .colab-df-container {\n",
              "      display:flex;\n",
              "      flex-wrap:wrap;\n",
              "      gap: 12px;\n",
              "    }\n",
              "\n",
              "    .colab-df-convert {\n",
              "      background-color: #E8F0FE;\n",
              "      border: none;\n",
              "      border-radius: 50%;\n",
              "      cursor: pointer;\n",
              "      display: none;\n",
              "      fill: #1967D2;\n",
              "      height: 32px;\n",
              "      padding: 0 0 0 0;\n",
              "      width: 32px;\n",
              "    }\n",
              "\n",
              "    .colab-df-convert:hover {\n",
              "      background-color: #E2EBFA;\n",
              "      box-shadow: 0px 1px 2px rgba(60, 64, 67, 0.3), 0px 1px 3px 1px rgba(60, 64, 67, 0.15);\n",
              "      fill: #174EA6;\n",
              "    }\n",
              "\n",
              "    [theme=dark] .colab-df-convert {\n",
              "      background-color: #3B4455;\n",
              "      fill: #D2E3FC;\n",
              "    }\n",
              "\n",
              "    [theme=dark] .colab-df-convert:hover {\n",
              "      background-color: #434B5C;\n",
              "      box-shadow: 0px 1px 3px 1px rgba(0, 0, 0, 0.15);\n",
              "      filter: drop-shadow(0px 1px 2px rgba(0, 0, 0, 0.3));\n",
              "      fill: #FFFFFF;\n",
              "    }\n",
              "  </style>\n",
              "\n",
              "      <script>\n",
              "        const buttonEl =\n",
              "          document.querySelector('#df-0f5904cf-03c4-4d2e-828c-8301f43df8e6 button.colab-df-convert');\n",
              "        buttonEl.style.display =\n",
              "          google.colab.kernel.accessAllowed ? 'block' : 'none';\n",
              "\n",
              "        async function convertToInteractive(key) {\n",
              "          const element = document.querySelector('#df-0f5904cf-03c4-4d2e-828c-8301f43df8e6');\n",
              "          const dataTable =\n",
              "            await google.colab.kernel.invokeFunction('convertToInteractive',\n",
              "                                                     [key], {});\n",
              "          if (!dataTable) return;\n",
              "\n",
              "          const docLinkHtml = 'Like what you see? Visit the ' +\n",
              "            '<a target=\"_blank\" href=https://colab.research.google.com/notebooks/data_table.ipynb>data table notebook</a>'\n",
              "            + ' to learn more about interactive tables.';\n",
              "          element.innerHTML = '';\n",
              "          dataTable['output_type'] = 'display_data';\n",
              "          await google.colab.output.renderOutput(dataTable, element);\n",
              "          const docLink = document.createElement('div');\n",
              "          docLink.innerHTML = docLinkHtml;\n",
              "          element.appendChild(docLink);\n",
              "        }\n",
              "      </script>\n",
              "    </div>\n",
              "  </div>\n",
              "  "
            ]
          },
          "metadata": {},
          "execution_count": 33
        }
      ]
    },
    {
      "cell_type": "code",
      "source": [
        "NewDataSet = dataset.resample('D').mean()"
      ],
      "metadata": {
        "id": "1qD5cM5Un8Bp"
      },
      "execution_count": null,
      "outputs": []
    },
    {
      "cell_type": "code",
      "source": [
        "print(\"Old Dataset \",dataset.shape )\n",
        "print(\"New  Dataset \",NewDataSet.shape )"
      ],
      "metadata": {
        "colab": {
          "base_uri": "https://localhost:8080/"
        },
        "id": "OPAXaffcn_CY",
        "outputId": "19c0db9e-c2bc-4e82-eb19-6696700141a4"
      },
      "execution_count": null,
      "outputs": [
        {
          "output_type": "stream",
          "name": "stdout",
          "text": [
            "Old Dataset  (121273, 7)\n",
            "New  Dataset  (5055, 4)\n"
          ]
        }
      ]
    },
    {
      "cell_type": "code",
      "source": [
        "TestData = NewDataSet.tail(100)\n",
        "\n",
        "Training_Set = NewDataSet.iloc[:,0:1]\n",
        "\n",
        "Training_Set = Training_Set[:-60]"
      ],
      "metadata": {
        "id": "b5B2gxV-oHVQ"
      },
      "execution_count": null,
      "outputs": []
    },
    {
      "cell_type": "code",
      "source": [
        "print(\"Training Set Shape \", Training_Set.shape)\n",
        "print(\"Test Set Shape \", TestData.shape)"
      ],
      "metadata": {
        "colab": {
          "base_uri": "https://localhost:8080/"
        },
        "id": "ISATAwUhoJ1Y",
        "outputId": "d0f3dfdb-237e-47f2-f6c1-18e59c466936"
      },
      "execution_count": null,
      "outputs": [
        {
          "output_type": "stream",
          "name": "stdout",
          "text": [
            "Training Set Shape  (4995, 1)\n",
            "Test Set Shape  (100, 4)\n"
          ]
        }
      ]
    },
    {
      "cell_type": "code",
      "source": [
        "from sklearn.preprocessing import MinMaxScaler\n",
        "Training_Set = Training_Set.values\n",
        "sc = MinMaxScaler(feature_range=(0, 1))\n",
        "Train = sc.fit_transform(Training_Set)"
      ],
      "metadata": {
        "id": "eS9UtSJeoONh"
      },
      "execution_count": null,
      "outputs": []
    },
    {
      "cell_type": "code",
      "source": [
        "X_Train = []\n",
        "Y_Train = []\n",
        "\n",
        "# Range should be fromm 60 Values to END \n",
        "for i in range(60, Train.shape[0]):\n",
        "    \n",
        "    # X_Train 0-59 \n",
        "    X_Train.append(Train[i-60:i])\n",
        "    \n",
        "    # Y Would be 60 th Value based on past 60 Values \n",
        "    Y_Train.append(Train[i])\n",
        "\n",
        "# Convert into Numpy Array\n",
        "X_Train = np.array(X_Train)\n",
        "Y_Train = np.array(Y_Train)\n",
        "\n",
        "print(X_Train.shape)\n",
        "print(Y_Train.shape)"
      ],
      "metadata": {
        "colab": {
          "base_uri": "https://localhost:8080/"
        },
        "id": "7Plr6CK6oUfJ",
        "outputId": "c58a2aee-822a-4002-cf07-2ee1ee81c823"
      },
      "execution_count": null,
      "outputs": [
        {
          "output_type": "stream",
          "name": "stdout",
          "text": [
            "(4935, 60, 1)\n",
            "(4935, 1)\n"
          ]
        }
      ]
    },
    {
      "cell_type": "code",
      "source": [
        "# Shape should be Number of [Datapoints , Steps , 1 )\n",
        "# we convert into 3-d Vector or #rd Dimesnsion\n",
        "X_Train = np.reshape(X_Train, newshape=(X_Train.shape[0], X_Train.shape[1], 1))\n",
        "X_Train.shape"
      ],
      "metadata": {
        "colab": {
          "base_uri": "https://localhost:8080/"
        },
        "id": "lHI0Yf3aoZwJ",
        "outputId": "dd88dd63-6019-434a-8d03-591721385f5c"
      },
      "execution_count": null,
      "outputs": [
        {
          "output_type": "execute_result",
          "data": {
            "text/plain": [
              "(4935, 60, 1)"
            ]
          },
          "metadata": {},
          "execution_count": 44
        }
      ]
    },
    {
      "cell_type": "code",
      "source": [
        "from keras.models import Sequential\n",
        "from keras.layers import LSTM\n",
        "from keras.layers import Dropout\n",
        "from keras.layers import Dense\n",
        "#Model\n",
        "regressor = Sequential()\n",
        "\n",
        "# Adding the first LSTM layer and some Dropout regularisation\n",
        "regressor.add(LSTM(units = 50, return_sequences = True, input_shape = (X_Train.shape[1], 1)))\n",
        "regressor.add(Dropout(0.2))\n",
        "\n",
        "# Adding a second LSTM layer and some Dropout regularisation\n",
        "regressor.add(LSTM(units = 50, return_sequences = True))\n",
        "regressor.add(Dropout(0.2))\n",
        "\n",
        "# Adding a third LSTM layer and some Dropout regularisation\n",
        "regressor.add(LSTM(units = 50, return_sequences = True))\n",
        "regressor.add(Dropout(0.2))\n",
        "\n",
        "# Adding a fourth LSTM layer and some Dropout regularisation\n",
        "regressor.add(LSTM(units = 50))\n",
        "regressor.add(Dropout(0.2))\n",
        "\n",
        "# Adding the output layer\n",
        "regressor.add(Dense(units = 1))\n",
        "\n",
        "# Compiling the RNN\n",
        "regressor.compile(optimizer = 'adam', loss = 'mean_squared_error')"
      ],
      "metadata": {
        "id": "Yk2wYKa6oeTB"
      },
      "execution_count": null,
      "outputs": []
    },
    {
      "cell_type": "code",
      "source": [
        "regressor.fit(X_Train, Y_Train, epochs = 50, batch_size = 32)"
      ],
      "metadata": {
        "colab": {
          "base_uri": "https://localhost:8080/"
        },
        "id": "tWZegL80pEYx",
        "outputId": "29f5e16b-b392-463d-e67c-add2c2271cbd"
      },
      "execution_count": null,
      "outputs": [
        {
          "output_type": "stream",
          "name": "stdout",
          "text": [
            "Epoch 1/50\n",
            "155/155 [==============================] - 28s 118ms/step - loss: 0.0227\n",
            "Epoch 2/50\n",
            "155/155 [==============================] - 18s 118ms/step - loss: 0.0184\n",
            "Epoch 3/50\n",
            "155/155 [==============================] - 20s 128ms/step - loss: 0.0173\n",
            "Epoch 4/50\n",
            "155/155 [==============================] - 18s 119ms/step - loss: 0.0161\n",
            "Epoch 5/50\n",
            "155/155 [==============================] - 18s 119ms/step - loss: 0.0160\n",
            "Epoch 6/50\n",
            "155/155 [==============================] - 20s 130ms/step - loss: 0.0155\n",
            "Epoch 7/50\n",
            "155/155 [==============================] - 19s 120ms/step - loss: 0.0148\n",
            "Epoch 8/50\n",
            "155/155 [==============================] - 18s 119ms/step - loss: 0.0141\n",
            "Epoch 9/50\n",
            "155/155 [==============================] - 19s 120ms/step - loss: 0.0124\n",
            "Epoch 10/50\n",
            "155/155 [==============================] - 18s 118ms/step - loss: 0.0105\n",
            "Epoch 11/50\n",
            "155/155 [==============================] - 18s 119ms/step - loss: 0.0096\n",
            "Epoch 12/50\n",
            "155/155 [==============================] - 19s 120ms/step - loss: 0.0089\n",
            "Epoch 13/50\n",
            "155/155 [==============================] - 18s 119ms/step - loss: 0.0084\n",
            "Epoch 14/50\n",
            "155/155 [==============================] - 18s 119ms/step - loss: 0.0082\n",
            "Epoch 15/50\n",
            "155/155 [==============================] - 19s 120ms/step - loss: 0.0076\n",
            "Epoch 16/50\n",
            "155/155 [==============================] - 19s 120ms/step - loss: 0.0074\n",
            "Epoch 17/50\n",
            "155/155 [==============================] - 18s 119ms/step - loss: 0.0074\n",
            "Epoch 18/50\n",
            "155/155 [==============================] - 19s 119ms/step - loss: 0.0071\n",
            "Epoch 19/50\n",
            "155/155 [==============================] - 19s 120ms/step - loss: 0.0071\n",
            "Epoch 20/50\n",
            "155/155 [==============================] - 19s 120ms/step - loss: 0.0066\n",
            "Epoch 21/50\n",
            "155/155 [==============================] - 18s 119ms/step - loss: 0.0060\n",
            "Epoch 22/50\n",
            "155/155 [==============================] - 19s 119ms/step - loss: 0.0057\n",
            "Epoch 23/50\n",
            "155/155 [==============================] - 19s 120ms/step - loss: 0.0055\n",
            "Epoch 24/50\n",
            "155/155 [==============================] - 19s 119ms/step - loss: 0.0053\n",
            "Epoch 25/50\n",
            "155/155 [==============================] - 19s 120ms/step - loss: 0.0052\n",
            "Epoch 26/50\n",
            "155/155 [==============================] - 19s 119ms/step - loss: 0.0052\n",
            "Epoch 27/50\n",
            "155/155 [==============================] - 18s 119ms/step - loss: 0.0052\n",
            "Epoch 28/50\n",
            "155/155 [==============================] - 18s 118ms/step - loss: 0.0050\n",
            "Epoch 29/50\n",
            "155/155 [==============================] - 18s 118ms/step - loss: 0.0050\n",
            "Epoch 30/50\n",
            "155/155 [==============================] - 18s 119ms/step - loss: 0.0048\n",
            "Epoch 31/50\n",
            "155/155 [==============================] - 19s 120ms/step - loss: 0.0050\n",
            "Epoch 32/50\n",
            "155/155 [==============================] - 18s 119ms/step - loss: 0.0050\n",
            "Epoch 33/50\n",
            "155/155 [==============================] - 19s 119ms/step - loss: 0.0049\n",
            "Epoch 34/50\n",
            "155/155 [==============================] - 18s 119ms/step - loss: 0.0047\n",
            "Epoch 35/50\n",
            "155/155 [==============================] - 19s 120ms/step - loss: 0.0047\n",
            "Epoch 36/50\n",
            "155/155 [==============================] - 19s 120ms/step - loss: 0.0046\n",
            "Epoch 37/50\n",
            "155/155 [==============================] - 19s 120ms/step - loss: 0.0047\n",
            "Epoch 38/50\n",
            "155/155 [==============================] - 19s 120ms/step - loss: 0.0045\n",
            "Epoch 39/50\n",
            "155/155 [==============================] - 18s 118ms/step - loss: 0.0048\n",
            "Epoch 40/50\n",
            "155/155 [==============================] - 19s 120ms/step - loss: 0.0045\n",
            "Epoch 41/50\n",
            "155/155 [==============================] - 18s 119ms/step - loss: 0.0044\n",
            "Epoch 42/50\n",
            "155/155 [==============================] - 18s 118ms/step - loss: 0.0044\n",
            "Epoch 43/50\n",
            "155/155 [==============================] - 18s 119ms/step - loss: 0.0046\n",
            "Epoch 44/50\n",
            "155/155 [==============================] - 19s 120ms/step - loss: 0.0044\n",
            "Epoch 45/50\n",
            "155/155 [==============================] - 18s 119ms/step - loss: 0.0043\n",
            "Epoch 46/50\n",
            "155/155 [==============================] - 18s 119ms/step - loss: 0.0044\n",
            "Epoch 47/50\n",
            "155/155 [==============================] - 18s 119ms/step - loss: 0.0045\n",
            "Epoch 48/50\n",
            "155/155 [==============================] - 19s 120ms/step - loss: 0.0044\n",
            "Epoch 49/50\n",
            "155/155 [==============================] - 18s 119ms/step - loss: 0.0044\n",
            "Epoch 50/50\n",
            "155/155 [==============================] - 18s 119ms/step - loss: 0.0044\n"
          ]
        },
        {
          "output_type": "execute_result",
          "data": {
            "text/plain": [
              "<keras.callbacks.History at 0x7f9c49eaa390>"
            ]
          },
          "metadata": {},
          "execution_count": 50
        }
      ]
    },
    {
      "cell_type": "code",
      "source": [
        "TestData.head(2)"
      ],
      "metadata": {
        "colab": {
          "base_uri": "https://localhost:8080/",
          "height": 143
        },
        "id": "x1PnztPbs0eQ",
        "outputId": "fc96ab8b-7899-4ac2-a508-1e066e51b715"
      },
      "execution_count": null,
      "outputs": [
        {
          "output_type": "execute_result",
          "data": {
            "text/plain": [
              "                  AEP_MW  Month    Year  Week\n",
              "Datetime                                     \n",
              "2018-04-26  13157.791667    4.0  2018.0  17.0\n",
              "2018-04-27  12964.000000    4.0  2018.0  17.0"
            ],
            "text/html": [
              "\n",
              "  <div id=\"df-52571b9f-9c53-4b51-9b32-877f4ff22c19\">\n",
              "    <div class=\"colab-df-container\">\n",
              "      <div>\n",
              "<style scoped>\n",
              "    .dataframe tbody tr th:only-of-type {\n",
              "        vertical-align: middle;\n",
              "    }\n",
              "\n",
              "    .dataframe tbody tr th {\n",
              "        vertical-align: top;\n",
              "    }\n",
              "\n",
              "    .dataframe thead th {\n",
              "        text-align: right;\n",
              "    }\n",
              "</style>\n",
              "<table border=\"1\" class=\"dataframe\">\n",
              "  <thead>\n",
              "    <tr style=\"text-align: right;\">\n",
              "      <th></th>\n",
              "      <th>AEP_MW</th>\n",
              "      <th>Month</th>\n",
              "      <th>Year</th>\n",
              "      <th>Week</th>\n",
              "    </tr>\n",
              "    <tr>\n",
              "      <th>Datetime</th>\n",
              "      <th></th>\n",
              "      <th></th>\n",
              "      <th></th>\n",
              "      <th></th>\n",
              "    </tr>\n",
              "  </thead>\n",
              "  <tbody>\n",
              "    <tr>\n",
              "      <th>2018-04-26</th>\n",
              "      <td>13157.791667</td>\n",
              "      <td>4.0</td>\n",
              "      <td>2018.0</td>\n",
              "      <td>17.0</td>\n",
              "    </tr>\n",
              "    <tr>\n",
              "      <th>2018-04-27</th>\n",
              "      <td>12964.000000</td>\n",
              "      <td>4.0</td>\n",
              "      <td>2018.0</td>\n",
              "      <td>17.0</td>\n",
              "    </tr>\n",
              "  </tbody>\n",
              "</table>\n",
              "</div>\n",
              "      <button class=\"colab-df-convert\" onclick=\"convertToInteractive('df-52571b9f-9c53-4b51-9b32-877f4ff22c19')\"\n",
              "              title=\"Convert this dataframe to an interactive table.\"\n",
              "              style=\"display:none;\">\n",
              "        \n",
              "  <svg xmlns=\"http://www.w3.org/2000/svg\" height=\"24px\"viewBox=\"0 0 24 24\"\n",
              "       width=\"24px\">\n",
              "    <path d=\"M0 0h24v24H0V0z\" fill=\"none\"/>\n",
              "    <path d=\"M18.56 5.44l.94 2.06.94-2.06 2.06-.94-2.06-.94-.94-2.06-.94 2.06-2.06.94zm-11 1L8.5 8.5l.94-2.06 2.06-.94-2.06-.94L8.5 2.5l-.94 2.06-2.06.94zm10 10l.94 2.06.94-2.06 2.06-.94-2.06-.94-.94-2.06-.94 2.06-2.06.94z\"/><path d=\"M17.41 7.96l-1.37-1.37c-.4-.4-.92-.59-1.43-.59-.52 0-1.04.2-1.43.59L10.3 9.45l-7.72 7.72c-.78.78-.78 2.05 0 2.83L4 21.41c.39.39.9.59 1.41.59.51 0 1.02-.2 1.41-.59l7.78-7.78 2.81-2.81c.8-.78.8-2.07 0-2.86zM5.41 20L4 18.59l7.72-7.72 1.47 1.35L5.41 20z\"/>\n",
              "  </svg>\n",
              "      </button>\n",
              "      \n",
              "  <style>\n",
              "    .colab-df-container {\n",
              "      display:flex;\n",
              "      flex-wrap:wrap;\n",
              "      gap: 12px;\n",
              "    }\n",
              "\n",
              "    .colab-df-convert {\n",
              "      background-color: #E8F0FE;\n",
              "      border: none;\n",
              "      border-radius: 50%;\n",
              "      cursor: pointer;\n",
              "      display: none;\n",
              "      fill: #1967D2;\n",
              "      height: 32px;\n",
              "      padding: 0 0 0 0;\n",
              "      width: 32px;\n",
              "    }\n",
              "\n",
              "    .colab-df-convert:hover {\n",
              "      background-color: #E2EBFA;\n",
              "      box-shadow: 0px 1px 2px rgba(60, 64, 67, 0.3), 0px 1px 3px 1px rgba(60, 64, 67, 0.15);\n",
              "      fill: #174EA6;\n",
              "    }\n",
              "\n",
              "    [theme=dark] .colab-df-convert {\n",
              "      background-color: #3B4455;\n",
              "      fill: #D2E3FC;\n",
              "    }\n",
              "\n",
              "    [theme=dark] .colab-df-convert:hover {\n",
              "      background-color: #434B5C;\n",
              "      box-shadow: 0px 1px 3px 1px rgba(0, 0, 0, 0.15);\n",
              "      filter: drop-shadow(0px 1px 2px rgba(0, 0, 0, 0.3));\n",
              "      fill: #FFFFFF;\n",
              "    }\n",
              "  </style>\n",
              "\n",
              "      <script>\n",
              "        const buttonEl =\n",
              "          document.querySelector('#df-52571b9f-9c53-4b51-9b32-877f4ff22c19 button.colab-df-convert');\n",
              "        buttonEl.style.display =\n",
              "          google.colab.kernel.accessAllowed ? 'block' : 'none';\n",
              "\n",
              "        async function convertToInteractive(key) {\n",
              "          const element = document.querySelector('#df-52571b9f-9c53-4b51-9b32-877f4ff22c19');\n",
              "          const dataTable =\n",
              "            await google.colab.kernel.invokeFunction('convertToInteractive',\n",
              "                                                     [key], {});\n",
              "          if (!dataTable) return;\n",
              "\n",
              "          const docLinkHtml = 'Like what you see? Visit the ' +\n",
              "            '<a target=\"_blank\" href=https://colab.research.google.com/notebooks/data_table.ipynb>data table notebook</a>'\n",
              "            + ' to learn more about interactive tables.';\n",
              "          element.innerHTML = '';\n",
              "          dataTable['output_type'] = 'display_data';\n",
              "          await google.colab.output.renderOutput(dataTable, element);\n",
              "          const docLink = document.createElement('div');\n",
              "          docLink.innerHTML = docLinkHtml;\n",
              "          element.appendChild(docLink);\n",
              "        }\n",
              "      </script>\n",
              "    </div>\n",
              "  </div>\n",
              "  "
            ]
          },
          "metadata": {},
          "execution_count": 51
        }
      ]
    },
    {
      "cell_type": "code",
      "source": [
        "TestData.shape"
      ],
      "metadata": {
        "colab": {
          "base_uri": "https://localhost:8080/"
        },
        "id": "i4H1Rhlfs9yX",
        "outputId": "891c891c-d0dc-4d68-de1c-55aa1fb6207e"
      },
      "execution_count": null,
      "outputs": [
        {
          "output_type": "execute_result",
          "data": {
            "text/plain": [
              "(100, 4)"
            ]
          },
          "metadata": {},
          "execution_count": 52
        }
      ]
    },
    {
      "cell_type": "code",
      "source": [
        "NewDataSet.shape"
      ],
      "metadata": {
        "colab": {
          "base_uri": "https://localhost:8080/"
        },
        "id": "0l61-IlTs_Xv",
        "outputId": "a6ba5fd9-9fd9-4684-eda6-b1217861d7ef"
      },
      "execution_count": null,
      "outputs": [
        {
          "output_type": "execute_result",
          "data": {
            "text/plain": [
              "(5055, 4)"
            ]
          },
          "metadata": {},
          "execution_count": 53
        }
      ]
    },
    {
      "cell_type": "code",
      "source": [
        "Df_Total = pd.concat((NewDataSet[[\"AEP_MW\"]], TestData[[\"AEP_MW\"]]), axis=0)"
      ],
      "metadata": {
        "id": "RKksBNidtDCo"
      },
      "execution_count": null,
      "outputs": []
    },
    {
      "cell_type": "code",
      "source": [
        "Df_Total.shape"
      ],
      "metadata": {
        "colab": {
          "base_uri": "https://localhost:8080/"
        },
        "id": "9TQ6bX8mtEvY",
        "outputId": "516c7ce9-2983-42b5-d041-10056aecc6d5"
      },
      "execution_count": null,
      "outputs": [
        {
          "output_type": "execute_result",
          "data": {
            "text/plain": [
              "(5155, 1)"
            ]
          },
          "metadata": {},
          "execution_count": 55
        }
      ]
    },
    {
      "cell_type": "code",
      "source": [
        "inputs = Df_Total[len(Df_Total) - len(TestData) - 60:].values\n",
        "inputs.shape"
      ],
      "metadata": {
        "colab": {
          "base_uri": "https://localhost:8080/"
        },
        "id": "Gajwx8tKtHww",
        "outputId": "25065687-0c4b-4660-ad88-192823fb5553"
      },
      "execution_count": null,
      "outputs": [
        {
          "output_type": "execute_result",
          "data": {
            "text/plain": [
              "(160, 1)"
            ]
          },
          "metadata": {},
          "execution_count": 56
        }
      ]
    },
    {
      "cell_type": "code",
      "source": [
        "inputs = Df_Total[len(Df_Total) - len(TestData) - 60:].values\n",
        "\n",
        "# We need to Reshape\n",
        "inputs = inputs.reshape(-1,1)\n",
        "\n",
        "# Normalize the Dataset\n",
        "inputs = sc.transform(inputs)\n",
        "\n",
        "X_test = []\n",
        "for i in range(60, 160):\n",
        "    X_test.append(inputs[i-60:i])\n",
        "    \n",
        "# Convert into Numpy Array\n",
        "X_test = np.array(X_test)\n",
        "\n",
        "# Reshape before Passing to Network\n",
        "X_test = np.reshape(X_test, (X_test.shape[0], X_test.shape[1], 1))\n",
        "\n",
        "# Pass to Model \n",
        "predicted_stock_price = regressor.predict(X_test)\n",
        "\n",
        "# Do inverse Transformation to get Values \n",
        "predicted_stock_price = sc.inverse_transform(predicted_stock_price)"
      ],
      "metadata": {
        "id": "8XBcKf3YtNcQ"
      },
      "execution_count": null,
      "outputs": []
    },
    {
      "cell_type": "code",
      "source": [
        "True_MegaWatt = TestData[\"AEP_MW\"].to_list()\n",
        "Predicted_MegaWatt  = predicted_stock_price\n",
        "dates = TestData.index.to_list()"
      ],
      "metadata": {
        "id": "g7cSYLFHtP2H"
      },
      "execution_count": null,
      "outputs": []
    },
    {
      "cell_type": "code",
      "source": [
        "Machine_Df = pd.DataFrame(data={\n",
        "    \"Date\":dates,\n",
        "    \"TrueMegaWatt\": True_MegaWatt,\n",
        "    \"PredictedMeagWatt\":[x[0] for x in Predicted_MegaWatt ]\n",
        "})"
      ],
      "metadata": {
        "id": "qbC7tV1jtSwj"
      },
      "execution_count": null,
      "outputs": []
    },
    {
      "cell_type": "code",
      "source": [
        "Machine_Df"
      ],
      "metadata": {
        "colab": {
          "base_uri": "https://localhost:8080/",
          "height": 424
        },
        "id": "fhoGjx9ftWX_",
        "outputId": "4906f8c5-c1c8-4a08-e5ea-0fabf7aa70c7"
      },
      "execution_count": null,
      "outputs": [
        {
          "output_type": "execute_result",
          "data": {
            "text/plain": [
              "         Date  TrueMegaWatt  PredictedMeagWatt\n",
              "0  2018-04-26  13157.791667       13588.728516\n",
              "1  2018-04-27  12964.000000       13080.779297\n",
              "2  2018-04-28  12237.583333       14912.032227\n",
              "3  2018-04-29  12156.791667       13473.731445\n",
              "4  2018-04-30  13443.500000       13136.560547\n",
              "..        ...           ...                ...\n",
              "95 2018-07-30  15368.083333       15599.332031\n",
              "96 2018-07-31  15180.291667       15718.833984\n",
              "97 2018-08-01  15151.166667       15082.103516\n",
              "98 2018-08-02  15687.666667       15329.417969\n",
              "99 2018-08-03  14809.000000       15421.556641\n",
              "\n",
              "[100 rows x 3 columns]"
            ],
            "text/html": [
              "\n",
              "  <div id=\"df-db2c0af4-1307-4bc2-9813-59c5c8fbd279\">\n",
              "    <div class=\"colab-df-container\">\n",
              "      <div>\n",
              "<style scoped>\n",
              "    .dataframe tbody tr th:only-of-type {\n",
              "        vertical-align: middle;\n",
              "    }\n",
              "\n",
              "    .dataframe tbody tr th {\n",
              "        vertical-align: top;\n",
              "    }\n",
              "\n",
              "    .dataframe thead th {\n",
              "        text-align: right;\n",
              "    }\n",
              "</style>\n",
              "<table border=\"1\" class=\"dataframe\">\n",
              "  <thead>\n",
              "    <tr style=\"text-align: right;\">\n",
              "      <th></th>\n",
              "      <th>Date</th>\n",
              "      <th>TrueMegaWatt</th>\n",
              "      <th>PredictedMeagWatt</th>\n",
              "    </tr>\n",
              "  </thead>\n",
              "  <tbody>\n",
              "    <tr>\n",
              "      <th>0</th>\n",
              "      <td>2018-04-26</td>\n",
              "      <td>13157.791667</td>\n",
              "      <td>13588.728516</td>\n",
              "    </tr>\n",
              "    <tr>\n",
              "      <th>1</th>\n",
              "      <td>2018-04-27</td>\n",
              "      <td>12964.000000</td>\n",
              "      <td>13080.779297</td>\n",
              "    </tr>\n",
              "    <tr>\n",
              "      <th>2</th>\n",
              "      <td>2018-04-28</td>\n",
              "      <td>12237.583333</td>\n",
              "      <td>14912.032227</td>\n",
              "    </tr>\n",
              "    <tr>\n",
              "      <th>3</th>\n",
              "      <td>2018-04-29</td>\n",
              "      <td>12156.791667</td>\n",
              "      <td>13473.731445</td>\n",
              "    </tr>\n",
              "    <tr>\n",
              "      <th>4</th>\n",
              "      <td>2018-04-30</td>\n",
              "      <td>13443.500000</td>\n",
              "      <td>13136.560547</td>\n",
              "    </tr>\n",
              "    <tr>\n",
              "      <th>...</th>\n",
              "      <td>...</td>\n",
              "      <td>...</td>\n",
              "      <td>...</td>\n",
              "    </tr>\n",
              "    <tr>\n",
              "      <th>95</th>\n",
              "      <td>2018-07-30</td>\n",
              "      <td>15368.083333</td>\n",
              "      <td>15599.332031</td>\n",
              "    </tr>\n",
              "    <tr>\n",
              "      <th>96</th>\n",
              "      <td>2018-07-31</td>\n",
              "      <td>15180.291667</td>\n",
              "      <td>15718.833984</td>\n",
              "    </tr>\n",
              "    <tr>\n",
              "      <th>97</th>\n",
              "      <td>2018-08-01</td>\n",
              "      <td>15151.166667</td>\n",
              "      <td>15082.103516</td>\n",
              "    </tr>\n",
              "    <tr>\n",
              "      <th>98</th>\n",
              "      <td>2018-08-02</td>\n",
              "      <td>15687.666667</td>\n",
              "      <td>15329.417969</td>\n",
              "    </tr>\n",
              "    <tr>\n",
              "      <th>99</th>\n",
              "      <td>2018-08-03</td>\n",
              "      <td>14809.000000</td>\n",
              "      <td>15421.556641</td>\n",
              "    </tr>\n",
              "  </tbody>\n",
              "</table>\n",
              "<p>100 rows × 3 columns</p>\n",
              "</div>\n",
              "      <button class=\"colab-df-convert\" onclick=\"convertToInteractive('df-db2c0af4-1307-4bc2-9813-59c5c8fbd279')\"\n",
              "              title=\"Convert this dataframe to an interactive table.\"\n",
              "              style=\"display:none;\">\n",
              "        \n",
              "  <svg xmlns=\"http://www.w3.org/2000/svg\" height=\"24px\"viewBox=\"0 0 24 24\"\n",
              "       width=\"24px\">\n",
              "    <path d=\"M0 0h24v24H0V0z\" fill=\"none\"/>\n",
              "    <path d=\"M18.56 5.44l.94 2.06.94-2.06 2.06-.94-2.06-.94-.94-2.06-.94 2.06-2.06.94zm-11 1L8.5 8.5l.94-2.06 2.06-.94-2.06-.94L8.5 2.5l-.94 2.06-2.06.94zm10 10l.94 2.06.94-2.06 2.06-.94-2.06-.94-.94-2.06-.94 2.06-2.06.94z\"/><path d=\"M17.41 7.96l-1.37-1.37c-.4-.4-.92-.59-1.43-.59-.52 0-1.04.2-1.43.59L10.3 9.45l-7.72 7.72c-.78.78-.78 2.05 0 2.83L4 21.41c.39.39.9.59 1.41.59.51 0 1.02-.2 1.41-.59l7.78-7.78 2.81-2.81c.8-.78.8-2.07 0-2.86zM5.41 20L4 18.59l7.72-7.72 1.47 1.35L5.41 20z\"/>\n",
              "  </svg>\n",
              "      </button>\n",
              "      \n",
              "  <style>\n",
              "    .colab-df-container {\n",
              "      display:flex;\n",
              "      flex-wrap:wrap;\n",
              "      gap: 12px;\n",
              "    }\n",
              "\n",
              "    .colab-df-convert {\n",
              "      background-color: #E8F0FE;\n",
              "      border: none;\n",
              "      border-radius: 50%;\n",
              "      cursor: pointer;\n",
              "      display: none;\n",
              "      fill: #1967D2;\n",
              "      height: 32px;\n",
              "      padding: 0 0 0 0;\n",
              "      width: 32px;\n",
              "    }\n",
              "\n",
              "    .colab-df-convert:hover {\n",
              "      background-color: #E2EBFA;\n",
              "      box-shadow: 0px 1px 2px rgba(60, 64, 67, 0.3), 0px 1px 3px 1px rgba(60, 64, 67, 0.15);\n",
              "      fill: #174EA6;\n",
              "    }\n",
              "\n",
              "    [theme=dark] .colab-df-convert {\n",
              "      background-color: #3B4455;\n",
              "      fill: #D2E3FC;\n",
              "    }\n",
              "\n",
              "    [theme=dark] .colab-df-convert:hover {\n",
              "      background-color: #434B5C;\n",
              "      box-shadow: 0px 1px 3px 1px rgba(0, 0, 0, 0.15);\n",
              "      filter: drop-shadow(0px 1px 2px rgba(0, 0, 0, 0.3));\n",
              "      fill: #FFFFFF;\n",
              "    }\n",
              "  </style>\n",
              "\n",
              "      <script>\n",
              "        const buttonEl =\n",
              "          document.querySelector('#df-db2c0af4-1307-4bc2-9813-59c5c8fbd279 button.colab-df-convert');\n",
              "        buttonEl.style.display =\n",
              "          google.colab.kernel.accessAllowed ? 'block' : 'none';\n",
              "\n",
              "        async function convertToInteractive(key) {\n",
              "          const element = document.querySelector('#df-db2c0af4-1307-4bc2-9813-59c5c8fbd279');\n",
              "          const dataTable =\n",
              "            await google.colab.kernel.invokeFunction('convertToInteractive',\n",
              "                                                     [key], {});\n",
              "          if (!dataTable) return;\n",
              "\n",
              "          const docLinkHtml = 'Like what you see? Visit the ' +\n",
              "            '<a target=\"_blank\" href=https://colab.research.google.com/notebooks/data_table.ipynb>data table notebook</a>'\n",
              "            + ' to learn more about interactive tables.';\n",
              "          element.innerHTML = '';\n",
              "          dataTable['output_type'] = 'display_data';\n",
              "          await google.colab.output.renderOutput(dataTable, element);\n",
              "          const docLink = document.createElement('div');\n",
              "          docLink.innerHTML = docLinkHtml;\n",
              "          element.appendChild(docLink);\n",
              "        }\n",
              "      </script>\n",
              "    </div>\n",
              "  </div>\n",
              "  "
            ]
          },
          "metadata": {},
          "execution_count": 60
        }
      ]
    },
    {
      "cell_type": "code",
      "source": [
        "True_MegaWatt = TestData[\"AEP_MW\"].to_list()\n",
        "Predicted_MegaWatt  = [x[0] for x in Predicted_MegaWatt ]\n",
        "dates = TestData.index.to_list()"
      ],
      "metadata": {
        "id": "RoPHfF_1taFH"
      },
      "execution_count": null,
      "outputs": []
    },
    {
      "cell_type": "code",
      "source": [
        "fig = plt.figure()\n",
        "\n",
        "ax1= fig.add_subplot(111)\n",
        "\n",
        "x = dates\n",
        "y = True_MegaWatt\n",
        "\n",
        "y1 = Predicted_MegaWatt\n",
        "\n",
        "plt.plot(x,y, color=\"green\")\n",
        "plt.plot(x,y1, color=\"red\")\n",
        "# beautify the x-labels\n",
        "plt.gcf().autofmt_xdate()\n",
        "plt.xlabel('Dates')\n",
        "plt.ylabel(\"Power in MW\")\n",
        "plt.title(\"Machine Learned the Pattern Predicting Future Values \")\n",
        "plt.legend()"
      ],
      "metadata": {
        "colab": {
          "base_uri": "https://localhost:8080/",
          "height": 340
        },
        "id": "lb2xD7QAtewI",
        "outputId": "b33d4689-b98e-4298-8d62-f33f1a31dec0"
      },
      "execution_count": null,
      "outputs": [
        {
          "output_type": "stream",
          "name": "stderr",
          "text": [
            "No handles with labels found to put in legend.\n"
          ]
        },
        {
          "output_type": "execute_result",
          "data": {
            "text/plain": [
              "<matplotlib.legend.Legend at 0x7f9c49ab7190>"
            ]
          },
          "metadata": {},
          "execution_count": 62
        },
        {
          "output_type": "display_data",
          "data": {
            "text/plain": [
              "<Figure size 432x288 with 1 Axes>"
            ],
            "image/png": "[encoded data removed]"
          },
          "metadata": {}
        }
      ]
    }
  ]
}