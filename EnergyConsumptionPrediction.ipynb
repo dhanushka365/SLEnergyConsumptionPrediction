{
  "nbformat": 4,
  "nbformat_minor": 0,
  "metadata": {
    "colab": {
      "name": "EnergyConsumptionPrediction.ipynb",
      "provenance": [],
      "authorship_tag": "ABX9TyNOXjWm8GnLBrZuCPQIRVZD",
      "include_colab_link": true
    },
    "kernelspec": {
      "name": "python3",
      "display_name": "Python 3"
    },
    "language_info": {
      "name": "python"
    }
  },
  "cells": [
    {
      "cell_type": "markdown",
      "metadata": {
        "id": "view-in-github",
        "colab_type": "text"
      },
      "source": [
        "<a href=\"https://colab.research.google.com/github/dhanushka365/SLEnergyConsumptionPrediction/blob/main/EnergyConsumptionPrediction.ipynb\" target=\"_parent\"><img src=\"https://colab.research.google.com/assets/colab-badge.svg\" alt=\"Open In Colab\"/></a>"
      ]
    },
    {
      "cell_type": "code",
      "execution_count": 1,
      "metadata": {
        "id": "z5PpgJ1JR5vI"
      },
      "outputs": [],
      "source": [
        "import pandas as pd\n",
        "import numpy as np\n",
        "import matplotlib.pyplot as plt\n",
        "import seaborn as sns\n",
        "import pprint\n",
        "%matplotlib inline"
      ]
    },
    {
      "cell_type": "code",
      "source": [
        "from google.colab import drive\n",
        "drive.mount('/content/drive')"
      ],
      "metadata": {
        "colab": {
          "base_uri": "https://localhost:8080/"
        },
        "id": "NF2h6fO1SAiX",
        "outputId": "643a3ebe-c193-461d-dbe0-eecb3d6ecbd3"
      },
      "execution_count": 2,
      "outputs": [
        {
          "output_type": "stream",
          "name": "stdout",
          "text": [
            "Mounted at /content/drive\n"
          ]
        }
      ]
    },
    {
      "cell_type": "code",
      "source": [
        "df = pd.read_csv(\"/content/drive/MyDrive/hourly_csv/AEP_hourly.csv\")\n",
        "print(\"=\"*50)\n",
        "print(\"First Five Rows \",\"\\n\")\n",
        "print(df.head(2),\"\\n\")\n",
        "\n",
        "print(\"=\"*50)\n",
        "print(\"Information About Dataset\",\"\\n\")\n",
        "print(df.info(),\"\\n\")\n",
        "\n",
        "print(\"=\"*50)\n",
        "print(\"Describe the Dataset \",\"\\n\")\n",
        "print(df.describe(),\"\\n\")\n",
        "\n",
        "print(\"=\"*50)\n",
        "print(\"Null Values t \",\"\\n\")\n",
        "print(df.isnull().sum(),\"\\n\")"
      ],
      "metadata": {
        "colab": {
          "base_uri": "https://localhost:8080/"
        },
        "id": "MmJIYT_xSF_m",
        "outputId": "7aa69373-7a7c-4b7b-fd46-c5c12c626ec6"
      },
      "execution_count": 3,
      "outputs": [
        {
          "output_type": "stream",
          "name": "stdout",
          "text": [
            "==================================================\n",
            "First Five Rows  \n",
            "\n",
            "              Datetime   AEP_MW\n",
            "0  2004-12-31 01:00:00  13478.0\n",
            "1  2004-12-31 02:00:00  12865.0 \n",
            "\n",
            "==================================================\n",
            "Information About Dataset \n",
            "\n",
            "<class 'pandas.core.frame.DataFrame'>\n",
            "RangeIndex: 121273 entries, 0 to 121272\n",
            "Data columns (total 2 columns):\n",
            " #   Column    Non-Null Count   Dtype  \n",
            "---  ------    --------------   -----  \n",
            " 0   Datetime  121273 non-null  object \n",
            " 1   AEP_MW    121273 non-null  float64\n",
            "dtypes: float64(1), object(1)\n",
            "memory usage: 1.9+ MB\n",
            "None \n",
            "\n",
            "==================================================\n",
            "Describe the Dataset  \n",
            "\n",
            "              AEP_MW\n",
            "count  121273.000000\n",
            "mean    15499.513717\n",
            "std      2591.399065\n",
            "min      9581.000000\n",
            "25%     13630.000000\n",
            "50%     15310.000000\n",
            "75%     17200.000000\n",
            "max     25695.000000 \n",
            "\n",
            "==================================================\n",
            "Null Values t  \n",
            "\n",
            "Datetime    0\n",
            "AEP_MW      0\n",
            "dtype: int64 \n",
            "\n"
          ]
        }
      ]
    },
    {
      "cell_type": "code",
      "source": [
        "# Extract all Data Like Year MOnth Day Time etc\n",
        "dataset = df\n",
        "dataset[\"Month\"] = pd.to_datetime(df[\"Datetime\"]).dt.month\n",
        "dataset[\"Year\"] = pd.to_datetime(df[\"Datetime\"]).dt.year\n",
        "dataset[\"Date\"] = pd.to_datetime(df[\"Datetime\"]).dt.date\n",
        "dataset[\"Time\"] = pd.to_datetime(df[\"Datetime\"]).dt.time\n",
        "dataset[\"Week\"] = pd.to_datetime(df[\"Datetime\"]).dt.week\n",
        "dataset[\"Day\"] = pd.to_datetime(df[\"Datetime\"]).dt.day_name()\n",
        "dataset = df.set_index(\"Datetime\")\n",
        "dataset.index = pd.to_datetime(dataset.index)\n",
        "dataset.head(1)\n"
      ],
      "metadata": {
        "colab": {
          "base_uri": "https://localhost:8080/",
          "height": 147
        },
        "id": "lnclbMdySSfH",
        "outputId": "ff9a3d55-bb16-481c-d366-aa017a7566ad"
      },
      "execution_count": 4,
      "outputs": [
        {
          "output_type": "stream",
          "name": "stderr",
          "text": [
            "/usr/local/lib/python3.7/dist-packages/ipykernel_launcher.py:7: FutureWarning: Series.dt.weekofyear and Series.dt.week have been deprecated.  Please use Series.dt.isocalendar().week instead.\n",
            "  import sys\n"
          ]
        },
        {
          "output_type": "execute_result",
          "data": {
            "text/plain": [
              "                      AEP_MW  Month  Year        Date      Time  Week     Day\n",
              "Datetime                                                                     \n",
              "2004-12-31 01:00:00  13478.0     12  2004  2004-12-31  01:00:00    53  Friday"
            ],
            "text/html": [
              "\n",
              "  <div id=\"df-132d6622-8b39-43ca-b47f-cada88fdb180\">\n",
              "    <div class=\"colab-df-container\">\n",
              "      <div>\n",
              "<style scoped>\n",
              "    .dataframe tbody tr th:only-of-type {\n",
              "        vertical-align: middle;\n",
              "    }\n",
              "\n",
              "    .dataframe tbody tr th {\n",
              "        vertical-align: top;\n",
              "    }\n",
              "\n",
              "    .dataframe thead th {\n",
              "        text-align: right;\n",
              "    }\n",
              "</style>\n",
              "<table border=\"1\" class=\"dataframe\">\n",
              "  <thead>\n",
              "    <tr style=\"text-align: right;\">\n",
              "      <th></th>\n",
              "      <th>AEP_MW</th>\n",
              "      <th>Month</th>\n",
              "      <th>Year</th>\n",
              "      <th>Date</th>\n",
              "      <th>Time</th>\n",
              "      <th>Week</th>\n",
              "      <th>Day</th>\n",
              "    </tr>\n",
              "    <tr>\n",
              "      <th>Datetime</th>\n",
              "      <th></th>\n",
              "      <th></th>\n",
              "      <th></th>\n",
              "      <th></th>\n",
              "      <th></th>\n",
              "      <th></th>\n",
              "      <th></th>\n",
              "    </tr>\n",
              "  </thead>\n",
              "  <tbody>\n",
              "    <tr>\n",
              "      <th>2004-12-31 01:00:00</th>\n",
              "      <td>13478.0</td>\n",
              "      <td>12</td>\n",
              "      <td>2004</td>\n",
              "      <td>2004-12-31</td>\n",
              "      <td>01:00:00</td>\n",
              "      <td>53</td>\n",
              "      <td>Friday</td>\n",
              "    </tr>\n",
              "  </tbody>\n",
              "</table>\n",
              "</div>\n",
              "      <button class=\"colab-df-convert\" onclick=\"convertToInteractive('df-132d6622-8b39-43ca-b47f-cada88fdb180')\"\n",
              "              title=\"Convert this dataframe to an interactive table.\"\n",
              "              style=\"display:none;\">\n",
              "        \n",
              "  <svg xmlns=\"http://www.w3.org/2000/svg\" height=\"24px\"viewBox=\"0 0 24 24\"\n",
              "       width=\"24px\">\n",
              "    <path d=\"M0 0h24v24H0V0z\" fill=\"none\"/>\n",
              "    <path d=\"M18.56 5.44l.94 2.06.94-2.06 2.06-.94-2.06-.94-.94-2.06-.94 2.06-2.06.94zm-11 1L8.5 8.5l.94-2.06 2.06-.94-2.06-.94L8.5 2.5l-.94 2.06-2.06.94zm10 10l.94 2.06.94-2.06 2.06-.94-2.06-.94-.94-2.06-.94 2.06-2.06.94z\"/><path d=\"M17.41 7.96l-1.37-1.37c-.4-.4-.92-.59-1.43-.59-.52 0-1.04.2-1.43.59L10.3 9.45l-7.72 7.72c-.78.78-.78 2.05 0 2.83L4 21.41c.39.39.9.59 1.41.59.51 0 1.02-.2 1.41-.59l7.78-7.78 2.81-2.81c.8-.78.8-2.07 0-2.86zM5.41 20L4 18.59l7.72-7.72 1.47 1.35L5.41 20z\"/>\n",
              "  </svg>\n",
              "      </button>\n",
              "      \n",
              "  <style>\n",
              "    .colab-df-container {\n",
              "      display:flex;\n",
              "      flex-wrap:wrap;\n",
              "      gap: 12px;\n",
              "    }\n",
              "\n",
              "    .colab-df-convert {\n",
              "      background-color: #E8F0FE;\n",
              "      border: none;\n",
              "      border-radius: 50%;\n",
              "      cursor: pointer;\n",
              "      display: none;\n",
              "      fill: #1967D2;\n",
              "      height: 32px;\n",
              "      padding: 0 0 0 0;\n",
              "      width: 32px;\n",
              "    }\n",
              "\n",
              "    .colab-df-convert:hover {\n",
              "      background-color: #E2EBFA;\n",
              "      box-shadow: 0px 1px 2px rgba(60, 64, 67, 0.3), 0px 1px 3px 1px rgba(60, 64, 67, 0.15);\n",
              "      fill: #174EA6;\n",
              "    }\n",
              "\n",
              "    [theme=dark] .colab-df-convert {\n",
              "      background-color: #3B4455;\n",
              "      fill: #D2E3FC;\n",
              "    }\n",
              "\n",
              "    [theme=dark] .colab-df-convert:hover {\n",
              "      background-color: #434B5C;\n",
              "      box-shadow: 0px 1px 3px 1px rgba(0, 0, 0, 0.15);\n",
              "      filter: drop-shadow(0px 1px 2px rgba(0, 0, 0, 0.3));\n",
              "      fill: #FFFFFF;\n",
              "    }\n",
              "  </style>\n",
              "\n",
              "      <script>\n",
              "        const buttonEl =\n",
              "          document.querySelector('#df-132d6622-8b39-43ca-b47f-cada88fdb180 button.colab-df-convert');\n",
              "        buttonEl.style.display =\n",
              "          google.colab.kernel.accessAllowed ? 'block' : 'none';\n",
              "\n",
              "        async function convertToInteractive(key) {\n",
              "          const element = document.querySelector('#df-132d6622-8b39-43ca-b47f-cada88fdb180');\n",
              "          const dataTable =\n",
              "            await google.colab.kernel.invokeFunction('convertToInteractive',\n",
              "                                                     [key], {});\n",
              "          if (!dataTable) return;\n",
              "\n",
              "          const docLinkHtml = 'Like what you see? Visit the ' +\n",
              "            '<a target=\"_blank\" href=https://colab.research.google.com/notebooks/data_table.ipynb>data table notebook</a>'\n",
              "            + ' to learn more about interactive tables.';\n",
              "          element.innerHTML = '';\n",
              "          dataTable['output_type'] = 'display_data';\n",
              "          await google.colab.output.renderOutput(dataTable, element);\n",
              "          const docLink = document.createElement('div');\n",
              "          docLink.innerHTML = docLinkHtml;\n",
              "          element.appendChild(docLink);\n",
              "        }\n",
              "      </script>\n",
              "    </div>\n",
              "  </div>\n",
              "  "
            ]
          },
          "metadata": {},
          "execution_count": 4
        }
      ]
    },
    {
      "cell_type": "markdown",
      "source": [
        ""
      ],
      "metadata": {
        "id": "WKk8YjmhWh4U"
      }
    },
    {
      "cell_type": "code",
      "source": [
        "# How many Unique Year do we Have in Dataset \n",
        "print(df.Year.unique(),\"\\n\")\n",
        "print(\"Total Number of Unique Year\", df.Year.nunique(), \"\\n\")"
      ],
      "metadata": {
        "colab": {
          "base_uri": "https://localhost:8080/"
        },
        "id": "4BtyBtxJSWqW",
        "outputId": "a6633485-f57f-4bb3-e596-c6e257a387f4"
      },
      "execution_count": 5,
      "outputs": [
        {
          "output_type": "stream",
          "name": "stdout",
          "text": [
            "[2004 2005 2006 2007 2008 2009 2010 2011 2012 2013 2014 2015 2016 2017\n",
            " 2018] \n",
            "\n",
            "Total Number of Unique Year 15 \n",
            "\n"
          ]
        }
      ]
    },
    {
      "cell_type": "code",
      "source": [
        "#plot and data visualization\n",
        "sns.distplot(df[\"AEP_MW\"])\n",
        "plt.title(\"Ennergy Distribution\")"
      ],
      "metadata": {
        "colab": {
          "base_uri": "https://localhost:8080/",
          "height": 371
        },
        "id": "Bb_zgruRUFhe",
        "outputId": "dec5e64f-076a-4bbd-91ea-5d78f72f37af"
      },
      "execution_count": 16,
      "outputs": [
        {
          "output_type": "stream",
          "name": "stderr",
          "text": [
            "/usr/local/lib/python3.7/dist-packages/seaborn/distributions.py:2619: FutureWarning: `distplot` is a deprecated function and will be removed in a future version. Please adapt your code to use either `displot` (a figure-level function with similar flexibility) or `histplot` (an axes-level function for histograms).\n",
            "  warnings.warn(msg, FutureWarning)\n"
          ]
        },
        {
          "output_type": "execute_result",
          "data": {
            "text/plain": [
              "Text(0.5, 1.0, 'Ennergy Distribution')"
            ]
          },
          "metadata": {},
          "execution_count": 16
        },
        {
          "output_type": "display_data",
          "data": {
            "text/plain": [
              "<Figure size 432x288 with 1 Axes>"
            ],
            "image/png": "[encoded data removed]"
          },
          "metadata": {}
        }
      ]
    },
    {
      "cell_type": "code",
      "source": [
        "#shows the Relationship of Energy vs Year\n",
        "sns.lineplot(x=df[\"Year\"],y=df[\"AEP_MW\"], data=df)"
      ],
      "metadata": {
        "colab": {
          "base_uri": "https://localhost:8080/",
          "height": 299
        },
        "id": "3f10Qw-SUrFu",
        "outputId": "1c85d45a-95cf-4330-da74-e8804f883347"
      },
      "execution_count": 11,
      "outputs": [
        {
          "output_type": "execute_result",
          "data": {
            "text/plain": [
              "<matplotlib.axes._subplots.AxesSubplot at 0x7f9cb8b7fe10>"
            ]
          },
          "metadata": {},
          "execution_count": 11
        },
        {
          "output_type": "display_data",
          "data": {
            "text/plain": [
              "<Figure size 432x288 with 1 Axes>"
            ],
            "image/png": "[encoded data removed]"
          },
          "metadata": {}
        }
      ]
    }
  ]
}